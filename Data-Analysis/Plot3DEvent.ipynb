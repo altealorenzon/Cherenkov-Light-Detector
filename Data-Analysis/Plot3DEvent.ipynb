{
 "cells": [
  {
   "cell_type": "code",
   "execution_count": 1,
   "metadata": {},
   "outputs": [],
   "source": [
    "from mpl_toolkits.mplot3d import Axes3D\n",
    "import matplotlib.pyplot as plt\n",
    "import numpy as np\n",
    "from matplotlib import cm\n",
    "import random\n",
    "from matplotlib.patches import Circle\n",
    "import mpl_toolkits.mplot3d.art3d as art3d"
   ]
  },
  {
   "cell_type": "code",
   "execution_count": 302,
   "metadata": {},
   "outputs": [],
   "source": [
    "##This function defines the axes \n",
    "def CreateFigure(alpha1, alpha2):\n",
    "    fig1 = plt.figure()\n",
    "    plt3d = fig1.gca(projection='3d')\n",
    "    plt.style.use('dark_background')\n",
    "    plt.xlim(-2.,12.)\n",
    "    plt.ylim(-2.,12.)\n",
    "## If you want to remove the tick uncomment the follwing rows\n",
    "    #plt3d.set_xticks([])\n",
    "    #plt3d.set_yticks([])\n",
    "    #plt3d.set_zticks([])  \n",
    "    plt3d.grid(False)\n",
    "    ax_ticks = ([0., 2., 4., 6., 8., 10.])\n",
    "    plt3d.set_xticks(ax_ticks)\n",
    "    plt3d.set_yticks(ax_ticks)\n",
    "    plt3d.set_xlabel(\"x\")\n",
    "    plt3d.set_ylabel(\"y\")\n",
    "    plt3d.set_zlabel(\"z\")\n",
    "    plt3d.view_init(alpha1 ,alpha2)\n",
    "\n",
    "    return plt3d"
   ]
  },
  {
   "cell_type": "code",
   "execution_count": 303,
   "metadata": {},
   "outputs": [],
   "source": [
    "def CreateEnvironment(plt3d):\n",
    "##This function creates the geometry of the apparatus\n",
    "\n",
    "#Position on the Silicon detectors\n",
    "    SiUp_coord    = np.array([10, 10, -10.5]) #First Silicon position\n",
    "    SiDown_coord  = np.array([10, 10, -19.55]) #Second Silicon position\n",
    "\n",
    "    normal = np.array([0, 0, 1])\n",
    "\n",
    "    # a plane is a*x+b*y+c*z+d=0\n",
    "    # [a,b,c] is the normal. Thus, we have to calculate\n",
    "    # d and we're set\n",
    "    SiUp_d   = -SiUp_coord.dot(normal)\n",
    "    SiDown_d = -SiDown_coord.dot(normal)\n",
    "\n",
    "    # create x,y\n",
    "    xx, yy   = np.meshgrid(range(10), range(10))\n",
    "  \n",
    "    # calculate corresponding z\n",
    "    SiUp_z   = (-normal[0] * xx - normal[1] * yy - SiUp_d) * 1. /normal[2]\n",
    "    SiDown_z = (-normal[0] * xx - normal[1] * yy - SiDown_d) * 1. /normal[2]\n",
    "\n",
    "    # plot the surface\n",
    "    plt3d.plot_surface(xx, yy, SiUp_z, alpha=0.5, cmap=cm.coolwarm)\n",
    "    plt3d.plot_surface(xx, yy, SiDown_z, alpha=0.5, cmap=cm.coolwarm)\n",
    "\n",
    "#Define the position of the  radiator\n",
    "    Radiator_coord    = np.array([1, 1, -41.55]) #Radiator Position\n",
    "    x_center  = 4.96292\n",
    "    y_center  = 3.97302\n",
    "    radius    = 1.0\n",
    "    height    = 1.0\n",
    "    elevation = -42.55\n",
    "    \n",
    "    x=np.linspace(x_center-radius, x_center+radius, 50)\n",
    "    z=np.linspace(-42.55, -41.55, 50)\n",
    "    Xc, Zc=np.meshgrid(x, z)\n",
    "    Yc = np.sqrt(radius**2-(Xc-x_center)**2)+y_center \n",
    "    \n",
    "    floor = Circle((x_center, y_center), radius, color='b', alpha = 0.2)\n",
    "    plt3d.add_patch(floor)\n",
    "    art3d.pathpatch_2d_to_3d(floor, z=elevation, zdir=\"z\")\n",
    "\n",
    "    ceiling = Circle((x_center, y_center), radius, color='b', alpha = 0.2)\n",
    "    plt3d.add_patch(ceiling)\n",
    "    art3d.pathpatch_2d_to_3d(ceiling, z=elevation+height, zdir=\"z\")\n",
    "    \n",
    "    plt3d.plot_surface(Xc, Yc, Zc, alpha=0.2, color = 'b')\n",
    "    plt3d.plot_surface(Xc, -Yc+2*y_center, Zc, alpha=0.2, color = 'b')"
   ]
  },
  {
   "cell_type": "code",
   "execution_count": 304,
   "metadata": {},
   "outputs": [],
   "source": [
    "##This function read the (x,y,z) coordinates of the hit point\n",
    "def ReadHit(filename):\n",
    "    hit_coord = np.loadtxt(filename)\n",
    "    return hit_coord"
   ]
  },
  {
   "cell_type": "code",
   "execution_count": 305,
   "metadata": {},
   "outputs": [],
   "source": [
    "##This function read the hit channels\n",
    "def ReadHitChannels(filename):\n",
    "    hit_channels = np.loadtxt(filename)\n",
    "    return hit_channels"
   ]
  },
  {
   "cell_type": "code",
   "execution_count": 306,
   "metadata": {},
   "outputs": [],
   "source": [
    "def PlotTrace(plt3d, HitPoint):\n",
    "    plt3d.scatter(HitPoint[:,0], HitPoint[:,1], HitPoint[:,2], c = 'r', marker='*')\n",
    "    plt3d.plot3D(HitPoint[:,0], HitPoint[:,1], HitPoint[:,2], c='r')"
   ]
  },
  {
   "cell_type": "code",
   "execution_count": 307,
   "metadata": {},
   "outputs": [],
   "source": [
    "def PlotPMTHits(plt3d, hit_channels, PH_channels, PMT2DMap):\n",
    "    \n",
    "    for i in range(len(hit_channels)):\n",
    "        for m in range(x_channels):\n",
    "            for n in range(y_channels):\n",
    "                if (PMT2DMap[m,n] == hit_channels[i]):\n",
    "                    xx, yy  = np.meshgrid([2.5+(m*0.5),(m*0.5)+3.], [2.5+(n*0.5),(n*0.5)+3.])\n",
    "                   \n",
    "                    normal = np.array([0, 0, 1])\n",
    "                    PMT_coord    = np.array([10, 10, -60]) #PMT hit plan \n",
    "\n",
    "                    # a plane is a*x+b*y+c*z+d=0\n",
    "                    # [a,b,c] is the normal. Thus, we have to calculate\n",
    "                        # d and we're set\n",
    "                    PMT_d = -PMT_coord.dot(normal) \n",
    "\n",
    "                    PMT_z   = (-normal[0] * xx - normal[1] * yy - PMT_d) * 1. /normal[2]\n",
    "                    plt3d.plot_surface(xx, yy, PMT_z, alpha=PH_channels[i]/max(PH_channels), color=\"yellow\" )"
   ]
  },
  {
   "cell_type": "code",
   "execution_count": 308,
   "metadata": {},
   "outputs": [
    {
     "name": "stdout",
     "output_type": "stream",
     "text": [
      "[[ 8. 16. 24. 32. 40. 48. 56. 64.]\n",
      " [ 7. 15. 23. 31. 39. 47. 55. 63.]\n",
      " [ 6. 14. 22. 30. 38. 46. 54. 62.]\n",
      " [ 5. 13. 21. 29. 37. 45. 53. 61.]\n",
      " [ 4. 12. 20. 28. 36. 44. 52. 60.]\n",
      " [ 3. 11. 19. 27. 35. 43. 51. 59.]\n",
      " [ 2. 10. 18. 26. 34. 42. 50. 58.]\n",
      " [ 1.  9. 17. 25. 33. 41. 49. 57.]]\n"
     ]
    }
   ],
   "source": [
    "#####################################\n",
    "##Store important execution variables\n",
    "\n",
    "x_channels = 8 #Number of PMT channels in the x-direction\n",
    "y_channels = 8 #Number of PMT channels in the y-direction\n",
    "\n",
    "#2D map of the channels\n",
    "PMT2DMap = np.zeros([x_channels,y_channels])\n",
    "for i in range(x_channels):\n",
    "    for j in range(y_channels):\n",
    "        PMT2DMap[i,j] = i*x_channels+(j+1)\n",
    "##        \n",
    "######################################\n",
    "\n",
    "PMT2DMap = np.rot90(PMT2DMap, k = 1)\n",
    "print(PMT2DMap)"
   ]
  },
  {
   "cell_type": "code",
   "execution_count": 328,
   "metadata": {},
   "outputs": [],
   "source": [
    "Hits = ReadHit(\"trace.txt\") #Read the coordinates of the hits on the three detectors"
   ]
  },
  {
   "cell_type": "code",
   "execution_count": 329,
   "metadata": {},
   "outputs": [],
   "source": [
    "hit_channels = ReadHitChannels(\"hitchannels.txt\") #Read the number of PMT channels above threshold"
   ]
  },
  {
   "cell_type": "code",
   "execution_count": 330,
   "metadata": {},
   "outputs": [],
   "source": [
    "PH_channels = ReadHitChannels(\"activePH.txt\")"
   ]
  },
  {
   "cell_type": "code",
   "execution_count": 331,
   "metadata": {
    "scrolled": false
   },
   "outputs": [
    {
     "data": {
      "image/png": "[encoded data removed]",
      "text/plain": [
       "<Figure size 432x288 with 1 Axes>"
      ]
     },
     "metadata": {},
     "output_type": "display_data"
    }
   ],
   "source": [
    "alpha1 = 40\n",
    "alpha2 = 290\n",
    "evNumber = 794\n",
    "plt3d = CreateFigure(alpha1, alpha2)\n",
    "CreateEnvironment(plt3d)\n",
    "PlotTrace(plt3d, Hits)\n",
    "PlotPMTHits(plt3d, hit_channels, PH_channels, PMT2DMap)\n",
    "plt.savefig(\"3dplot\"+str(evNumber)+\"_\"+str(alpha1)+\"_\"+str(alpha2)+\"_deg.png\")"
   ]
  },
  {
   "cell_type": "code",
   "execution_count": null,
   "metadata": {},
   "outputs": [],
   "source": []
  },
  {
   "cell_type": "code",
   "execution_count": null,
   "metadata": {},
   "outputs": [],
   "source": []
  }
 ],
 "metadata": {
  "kernelspec": {
   "display_name": "Python 3",
   "language": "python",
   "name": "python3"
  },
  "language_info": {
   "codemirror_mode": {
    "name": "ipython",
    "version": 3
   },
   "file_extension": ".py",
   "mimetype": "text/x-python",
   "name": "python",
   "nbconvert_exporter": "python",
   "pygments_lexer": "ipython3",
   "version": "3.7.3"
  }
 },
 "nbformat": 4,
 "nbformat_minor": 2
}
