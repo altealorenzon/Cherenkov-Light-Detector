{
 "cells": [
  {
   "cell_type": "code",
   "execution_count": 100,
   "metadata": {},
   "outputs": [],
   "source": [
    "from mpl_toolkits.mplot3d import Axes3D\n",
    "import matplotlib.pyplot as plt\n",
    "import numpy as np\n",
    "from matplotlib import cm\n",
    "import random\n",
    "from matplotlib.patches import Circle\n",
    "import mpl_toolkits.mplot3d.art3d as art3d"
   ]
  },
  {
   "cell_type": "code",
   "execution_count": 111,
   "metadata": {},
   "outputs": [],
   "source": [
    "##This function defines the axes \n",
    "def CreateFigure():\n",
    "    fig1 = plt.figure()\n",
    "    plt3d = fig1.gca(projection='3d')\n",
    "    plt.style.use('dark_background')\n",
    "    plt.xlim(-5,15)\n",
    "    plt.ylim(-5,15)\n",
    "## If you want to remove the tick uncomment the follwing rows\n",
    "    plt3d.set_xticks([])\n",
    "    plt3d.set_yticks([])\n",
    "    plt3d.set_zticks([])  \n",
    "\n",
    "    plt3d.view_init(30,135)\n",
    "\n",
    "    return plt3d"
   ]
  },
  {
   "cell_type": "code",
   "execution_count": 112,
   "metadata": {},
   "outputs": [],
   "source": [
    "def CreateEnvironment(plt3d):\n",
    "##This function creates the geometry of the apparatus\n",
    "\n",
    "#Position on the Silicon detectors\n",
    "    SiUp_coord    = np.array([10, 10, -10.9]) #First Silicon position\n",
    "    SiDown_coord  = np.array([10, 10, -19.15]) #Second Silicon position\n",
    "\n",
    "    normal = np.array([0, 0, 1])\n",
    "\n",
    "    # a plane is a*x+b*y+c*z+d=0\n",
    "    # [a,b,c] is the normal. Thus, we have to calculate\n",
    "    # d and we're set\n",
    "    SiUp_d   = -SiUp_coord.dot(normal)\n",
    "    SiDown_d = -SiDown_coord.dot(normal)\n",
    "\n",
    "    # create x,y\n",
    "    xx, yy   = np.meshgrid(range(10), range(10))\n",
    "  \n",
    "    # calculate corresponding z\n",
    "    SiUp_z   = (-normal[0] * xx - normal[1] * yy - SiUp_d) * 1. /normal[2]\n",
    "    SiDown_z = (-normal[0] * xx - normal[1] * yy - SiDown_d) * 1. /normal[2]\n",
    "\n",
    "    # plot the surface\n",
    "    plt3d.plot_surface(xx, yy, SiUp_z, alpha=0.5, cmap=cm.coolwarm)\n",
    "    plt3d.plot_surface(xx, yy, SiDown_z, alpha=0.5, cmap=cm.coolwarm)\n",
    "\n",
    "#Define the position of the  radiator\n",
    "    Radiator_coord    = np.array([1, 1, -41.55]) #Radiator Position\n",
    "    x_center  = 4.96292\n",
    "    y_center  = 3.97302\n",
    "    radius    = 1.0\n",
    "    height    = 1.0\n",
    "    elevation = -42.55\n",
    "    \n",
    "    x=np.linspace(x_center-radius, x_center+radius, 50)\n",
    "    z=np.linspace(-42.55, -41.55, 50)\n",
    "    Xc, Zc=np.meshgrid(x, z)\n",
    "    Yc = np.sqrt(radius**2-(Xc-x_center)**2)+y_center \n",
    "    \n",
    "    floor = Circle((x_center, y_center), radius, color='b', alpha = 0.2)\n",
    "    plt3d.add_patch(floor)\n",
    "    art3d.pathpatch_2d_to_3d(floor, z=elevation, zdir=\"z\")\n",
    "\n",
    "    ceiling = Circle((x_center, y_center), radius, color='b', alpha = 0.2)\n",
    "    plt3d.add_patch(ceiling)\n",
    "    art3d.pathpatch_2d_to_3d(ceiling, z=elevation+height, zdir=\"z\")\n",
    "    \n",
    "    plt3d.plot_surface(Xc, Yc, Zc, alpha=0.2, color = 'b')\n",
    "    plt3d.plot_surface(Xc, -Yc+2*y_center, Zc, alpha=0.2, color = 'b')"
   ]
  },
  {
   "cell_type": "code",
   "execution_count": 113,
   "metadata": {},
   "outputs": [],
   "source": [
    "##This function read the (x,y,z) coordinates of the hit point\n",
    "def ReadHit(filename):\n",
    "    hit_coord = np.loadtxt(filename)\n",
    "    return hit_coord"
   ]
  },
  {
   "cell_type": "code",
   "execution_count": 114,
   "metadata": {},
   "outputs": [],
   "source": [
    "##This function read the hit channels\n",
    "def ReadHitChannels(filename):\n",
    "    hit_channels = np.loadtxt(filename)\n",
    "    return hit_channels"
   ]
  },
  {
   "cell_type": "code",
   "execution_count": 115,
   "metadata": {},
   "outputs": [],
   "source": [
    "def PlotTrace(plt3d, HitPoint):\n",
    "    plt3d.scatter(HitPoint[:,0], HitPoint[:,1], HitPoint[:,2], c = 'r', marker='*')\n",
    "    plt3d.plot3D(HitPoint[:,0], HitPoint[:,1], HitPoint[:,2], c='r')"
   ]
  },
  {
   "cell_type": "code",
   "execution_count": 116,
   "metadata": {},
   "outputs": [],
   "source": [
    "def PlotPMTHits(plt3d, hit_channels, PMT2DMap):\n",
    "    \n",
    "    for i in range(len(hit_channels)):\n",
    "        for m in range(x_channels):\n",
    "            for n in range(y_channels):\n",
    "                if (PMT2DMap[m,n] == hit_channels[i]):\n",
    "                    xx, yy  = np.meshgrid([m,m+1], [n,n+1])\n",
    "                   \n",
    "                    normal = np.array([0, 0, 1])\n",
    "                    PMT_coord    = np.array([10, 10, -60]) #PMT hit plan \n",
    "\n",
    "                    # a plane is a*x+b*y+c*z+d=0\n",
    "                    # [a,b,c] is the normal. Thus, we have to calculate\n",
    "                        # d and we're set\n",
    "                    PMT_d = -PMT_coord.dot(normal) \n",
    "\n",
    "                    PMT_z   = (-normal[0] * xx - normal[1] * yy - PMT_d) * 1. /normal[2]\n",
    "                    plt3d.plot_surface(xx, yy, PMT_z, alpha=0.2, cmap=cm.prism)"
   ]
  },
  {
   "cell_type": "code",
   "execution_count": 117,
   "metadata": {},
   "outputs": [],
   "source": [
    "#####################################\n",
    "##Store important execution variables\n",
    "\n",
    "x_channels = 8 #Number of PMT channels in the x-direction\n",
    "y_channels = 8 #Number of PMT channels in the y-direction\n",
    "\n",
    "#2D map of the channels\n",
    "PMT2DMap = np.zeros([x_channels,y_channels])\n",
    "for i in range(x_channels):\n",
    "    for j in range(y_channels):\n",
    "        PMT2DMap[i,j] = i*x_channels+(j+1)\n",
    "##        \n",
    "######################################"
   ]
  },
  {
   "cell_type": "code",
   "execution_count": 118,
   "metadata": {},
   "outputs": [],
   "source": [
    "Hits = ReadHit(\"trace.txt\") #Read the coordinates of the hits on the three detectors"
   ]
  },
  {
   "cell_type": "code",
   "execution_count": 119,
   "metadata": {},
   "outputs": [],
   "source": [
    "hit_channels = ReadHitChannels(\"hitchannels.txt\") #Read the number of PMT channels above threshold"
   ]
  },
  {
   "cell_type": "code",
   "execution_count": 120,
   "metadata": {
    "scrolled": true
   },
   "outputs": [
    {
     "data": {
      "image/png": "[encoded data removed]",
      "text/plain": [
       "<Figure size 432x288 with 1 Axes>"
      ]
     },
     "metadata": {},
     "output_type": "display_data"
    }
   ],
   "source": [
    "plt3d = CreateFigure()\n",
    "CreateEnvironment(plt3d)\n",
    "PlotTrace(plt3d, Hits)\n",
    "PlotPMTHits(plt3d, hit_channels, PMT2DMap)"
   ]
  },
  {
   "cell_type": "code",
   "execution_count": 37,
   "metadata": {},
   "outputs": [
    {
     "data": {
      "text/plain": [
       "<Figure size 432x288 with 0 Axes>"
      ]
     },
     "metadata": {},
     "output_type": "display_data"
    }
   ],
   "source": []
  },
  {
   "cell_type": "code",
   "execution_count": null,
   "metadata": {},
   "outputs": [],
   "source": []
  }
 ],
 "metadata": {
  "kernelspec": {
   "display_name": "Python 3",
   "language": "python",
   "name": "python3"
  },
  "language_info": {
   "codemirror_mode": {
    "name": "ipython",
    "version": 3
   },
   "file_extension": ".py",
   "mimetype": "text/x-python",
   "name": "python",
   "nbconvert_exporter": "python",
   "pygments_lexer": "ipython3",
   "version": "3.7.3"
  }
 },
 "nbformat": 4,
 "nbformat_minor": 2
}
